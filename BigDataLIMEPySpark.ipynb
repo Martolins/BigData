{
  "nbformat": 4,
  "nbformat_minor": 0,
  "metadata": {
    "colab": {
      "name": "BigDataLIMEPySpark.ipynb",
      "provenance": [],
      "private_outputs": true,
      "collapsed_sections": []
    },
    "kernelspec": {
      "name": "python3",
      "display_name": "Python 3"
    },
    "accelerator": "GPU"
  },
  "cells": [
    {
      "cell_type": "code",
      "metadata": {
        "id": "_iLPWeEzSSJ2",
        "colab_type": "code",
        "colab": {}
      },
      "source": [
        "from google.colab import drive\n",
        "drive.mount('/content/drive')"
      ],
      "execution_count": null,
      "outputs": []
    },
    {
      "cell_type": "code",
      "metadata": {
        "id": "-3AgxiRRQHl0",
        "colab_type": "code",
        "colab": {}
      },
      "source": [
        "cd drive/My\\ Drive/PA2"
      ],
      "execution_count": null,
      "outputs": []
    },
    {
      "cell_type": "code",
      "metadata": {
        "id": "oljphaCRTCNK",
        "colab_type": "code",
        "colab": {}
      },
      "source": [
        "!pip install lime\n",
        "!pip install pytorch_transformers==1.2.0"
      ],
      "execution_count": null,
      "outputs": []
    },
    {
      "cell_type": "code",
      "metadata": {
        "id": "olg_o8LxheUf",
        "colab_type": "code",
        "colab": {}
      },
      "source": [
        "pip install transformers"
      ],
      "execution_count": null,
      "outputs": []
    },
    {
      "cell_type": "code",
      "metadata": {
        "id": "3cRH9BKMw74D",
        "colab_type": "code",
        "colab": {}
      },
      "source": [
        "pip install ktrain"
      ],
      "execution_count": null,
      "outputs": []
    },
    {
      "cell_type": "code",
      "metadata": {
        "id": "v-QgQ4-MYrwU",
        "colab_type": "code",
        "colab": {}
      },
      "source": [
        "from lime.lime_text import LimeTextExplainer\n",
        "label_names = [0, 1]\n",
        "explainer = LimeTextExplainer(class_names=label_names)"
      ],
      "execution_count": null,
      "outputs": []
    },
    {
      "cell_type": "code",
      "metadata": {
        "id": "MOy5Tl8Rwc2E",
        "colab_type": "code",
        "colab": {}
      },
      "source": [
        "import ktrain \n",
        "from ktrain import text\n",
        "import pandas as pd\n",
        "\n",
        "\n",
        "#Il modello addestrato di Bert viene caricato qua\n",
        "t=text.Transformer('./experiments/CAMERA_SPEC__BERT__20200904_105341', maxlen=128, classes=label_names)\n",
        "\n",
        "\n",
        "# #train\n",
        "train = pd.read_csv(\"data/camera_spec/train.tsv\",sep=\"\\t\")\n",
        "\n",
        "\n",
        "#ciclo train \n",
        "train_list = []\n",
        "label_train_list=[]\n",
        "for i in range(1,4999,1):\n",
        "    x_train = train.left_spec_title[i] + \" \" + train.right_spec_title[i]\n",
        "    train_list.append(x_train)\n",
        "    y_train = train.label[i]\n",
        "    label_train_list.append(y_train)\n",
        "\n",
        "# #test\n",
        "test = pd.read_csv(\"data/camera_spec/test.tsv\",sep=\"\\t\")\n",
        "\n",
        "\n",
        "#ciclo test\n",
        "test_list = []\n",
        "label_test_list=[]\n",
        "for i in range(1,999,1):\n",
        "    x_test = test.left_spec_title[i] + \" \" + test.right_spec_title[i]\n",
        "    test_list.append(x_test)\n",
        "    y_test = test.label[i]\n",
        "    label_test_list.append(y_test)\n",
        "\n",
        "trn = t.preprocess_train(train_list, label_train_list)\n",
        "val = t.preprocess_test(test_list, label_test_list)\n",
        "modello = t.get_classifier()\n",
        "learner = ktrain.get_learner(modello, train_data=trn, val_data=val, batch_size=3)"
      ],
      "execution_count": null,
      "outputs": []
    },
    {
      "cell_type": "code",
      "metadata": {
        "id": "WGFRFrqR9j5g",
        "colab_type": "code",
        "colab": {}
      },
      "source": [
        "learner.fit_onecycle(5e-5, 4)"
      ],
      "execution_count": null,
      "outputs": []
    },
    {
      "cell_type": "code",
      "metadata": {
        "id": "1y5RwZxm-htz",
        "colab_type": "code",
        "colab": {}
      },
      "source": [
        "#predizioni\n",
        "!pip install git+https://github.com/amaiya/eli5@tfkeras_0_10_1"
      ],
      "execution_count": null,
      "outputs": []
    },
    {
      "cell_type": "code",
      "metadata": {
        "id": "DZtKDJEdIQkE",
        "colab_type": "code",
        "colab": {}
      },
      "source": [
        "#PYSPARK\n",
        "!apt-get install openjdk-8-jdk-headless -qq > /dev/null\n",
        "!wget -q https://downloads.apache.org/spark/spark-3.0.1/spark-3.0.1-bin-hadoop3.2.tgz \n",
        "!tar xf spark-3.0.1-bin-hadoop3.2.tgz\n",
        "!pip install -q findspark\n",
        "\n"
      ],
      "execution_count": null,
      "outputs": []
    },
    {
      "cell_type": "code",
      "metadata": {
        "id": "yK3H00ezHQyC",
        "colab_type": "code",
        "colab": {}
      },
      "source": [
        "import os\n",
        "os.environ[\"JAVA_HOME\"] = \"/usr/lib/jvm/java-8-openjdk-amd64\"\n",
        "os.environ[\"SPARK_HOME\"] = \"/content/drive/My\\ Drive/PA2/spark-3.0.1-bin-hadoop3.2\""
      ],
      "execution_count": null,
      "outputs": []
    },
    {
      "cell_type": "code",
      "metadata": {
        "id": "EasvS1S0JWh2",
        "colab_type": "code",
        "colab": {}
      },
      "source": [
        "import findspark\n",
        "findspark.init(\"spark-3.0.1-bin-hadoop3.2\")# SPARK_HOME\n",
        "from pyspark.sql import SparkSession\n",
        "spark = SparkSession.builder.master(\"local[*]\").getOrCreate()"
      ],
      "execution_count": null,
      "outputs": []
    },
    {
      "cell_type": "code",
      "metadata": {
        "id": "h4cXudp9eDLh",
        "colab_type": "code",
        "colab": {}
      },
      "source": [
        "from pyspark import SparkContext\n",
        "sc = SparkContext.getOrCreate()\n",
        "\n"
      ],
      "execution_count": null,
      "outputs": []
    },
    {
      "cell_type": "code",
      "metadata": {
        "id": "_rx6NplY1mHK",
        "colab_type": "code",
        "colab": {}
      },
      "source": [
        "predictor = ktrain.get_predictor(learner.model,preproc=t)\n",
        "predictor.save(\"/tmp/ultima\")"
      ],
      "execution_count": null,
      "outputs": []
    },
    {
      "cell_type": "code",
      "metadata": {
        "id": "aPS_hT85TcPn",
        "colab_type": "code",
        "colab": {}
      },
      "source": [
        "def explanation(record):\n",
        "  new_predictor = ktrain.load_predictor(\"/tmp/ultima\")\n",
        "  new_predictor.predict(record)\n",
        "  new_predictor.explain(record)\n",
        "  new_predictor.save(\"/tmp/my_predictor\")\n",
        "  reloaded_predictor = ktrain.load_predictor(\"/tmp/my_predictor\")\n",
        "  reloaded_predictor.predict_proba(record)\n",
        "  exp = explainer.explain_instance(record, reloaded_predictor.predict_proba, num_features=6)\n",
        "  return exp.as_list()\n",
        "  "
      ],
      "execution_count": null,
      "outputs": []
    },
    {
      "cell_type": "code",
      "metadata": {
        "id": "dmX8UQlRR7fE",
        "colab_type": "code",
        "colab": {}
      },
      "source": [
        "lines= sc.textFile(\"test.tsv\").map(lambda line: line.split('\\t'))\n",
        "rdd = lines.map(lambda x:(x[3], x[0]+ \" \" +x[1]))\n",
        "spieg = rdd.map(lambda l: (explanation(l[1])))\n"
      ],
      "execution_count": null,
      "outputs": []
    },
    {
      "cell_type": "code",
      "metadata": {
        "id": "GWjN5x295siZ",
        "colab_type": "code",
        "colab": {}
      },
      "source": [
        "result= spieg.flatMap(lambda x: x)"
      ],
      "execution_count": null,
      "outputs": []
    },
    {
      "cell_type": "code",
      "metadata": {
        "id": "9VIpdqCuNpv1",
        "colab_type": "code",
        "colab": {}
      },
      "source": [
        "result.take(10)"
      ],
      "execution_count": null,
      "outputs": []
    },
    {
      "cell_type": "code",
      "metadata": {
        "id": "E_ZKeRTJ07G4",
        "colab_type": "code",
        "colab": {}
      },
      "source": [
        "sc.stop()\n",
        "spark.stop()"
      ],
      "execution_count": null,
      "outputs": []
    }
  ]
}