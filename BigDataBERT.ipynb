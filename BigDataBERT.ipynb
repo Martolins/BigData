{
  "nbformat": 4,
  "nbformat_minor": 0,
  "metadata": {
    "colab": {
      "name": "BigDataBERT.ipynb",
      "provenance": [],
      "private_outputs": true,
      "collapsed_sections": []
    },
    "kernelspec": {
      "name": "python3",
      "display_name": "Python 3"
    },
    "accelerator": "GPU"
  },
  "cells": [
    {
      "cell_type": "code",
      "metadata": {
        "id": "63uVEu8k4tKx"
      },
      "source": [
        "from google.colab import drive\n",
        "drive.mount('/content/drive')"
      ],
      "execution_count": null,
      "outputs": []
    },
    {
      "cell_type": "code",
      "metadata": {
        "id": "9T76T47P2Pbx"
      },
      "source": [
        "#avvia l'esperimento\n",
        "!. run_all.sh"
      ],
      "execution_count": null,
      "outputs": []
    },
    {
      "cell_type": "code",
      "metadata": {
        "id": "3Ufx8V7n2tBN"
      },
      "source": [
        "!pip install pytorch-transformers==1.2.0"
      ],
      "execution_count": null,
      "outputs": []
    },
    {
      "cell_type": "code",
      "metadata": {
        "id": "Ez-vF7j62xMs"
      },
      "source": [
        "!pip install tensorboardX"
      ],
      "execution_count": null,
      "outputs": []
    },
    {
      "cell_type": "code",
      "metadata": {
        "id": "SQtkwouG2VO9"
      },
      "source": [
        "cd drive/My\\ Drive/PA2"
      ],
      "execution_count": null,
      "outputs": []
    },
    {
      "cell_type": "code",
      "metadata": {
        "id": "6KDweKfmo0hO"
      },
      "source": [
        "#separa il csv iniziale in 60% training, 20% test, 20% dev\n",
        "import csv\n",
        "import pandas as pd\n",
        "\n",
        "df = pd.read_csv(\"2013_camera_entity_resolution_gt.csv\")\n",
        "training = df.sample(frac=0.6, random_state=200)\n",
        "temp = df.drop(training.index)\n",
        "test = temp.sample(frac=0.5, random_state=200)\n",
        "dev = temp.drop(test.index)\n",
        "training.to_csv(\"train.csv\")\n",
        "test.to_csv(\"test.csv\")\n",
        "dev.to_csv(\"dev.csv\")\n",
        "\n"
      ],
      "execution_count": null,
      "outputs": []
    }
  ]
}